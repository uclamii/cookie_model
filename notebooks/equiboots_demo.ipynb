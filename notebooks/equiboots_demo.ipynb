{
 "cells": [
  {
   "cell_type": "code",
   "execution_count": null,
   "metadata": {},
   "outputs": [],
   "source": [
    "import matplotlib.pyplot as plt\n",
    "from sklearn.metrics import (\n",
    "    roc_curve,\n",
    "    auc,\n",
    "    precision_recall_curve,\n",
    "    average_precision_score,\n",
    "    brier_score_loss,\n",
    ")\n",
    "from sklearn.calibration import calibration_curve\n",
    "import numpy as np\n",
    "import pandas as pd\n",
    "import os\n",
    "import sys\n",
    "\n",
    "import equiboots as eqb"
   ]
  },
  {
   "cell_type": "markdown",
   "metadata": {},
   "source": [
    "### Fetching Dataset"
   ]
  },
  {
   "cell_type": "code",
   "execution_count": null,
   "metadata": {},
   "outputs": [],
   "source": [
    "adult_x = pd.read_parquet(\"../data/processed/X.parquet\")\n",
    "adult_y = pd.read_parquet(\"../data/processed/y_income.parquet\")"
   ]
  },
  {
   "cell_type": "code",
   "execution_count": null,
   "metadata": {},
   "outputs": [],
   "source": [
    "from adult_income.functions import find_best_model, mlflow_load_model"
   ]
  },
  {
   "cell_type": "code",
   "execution_count": null,
   "metadata": {},
   "outputs": [],
   "source": [
    "def return_best_model(outcome, metric, mlruns_location):\n",
    "\n",
    "    outcome = \"income\"\n",
    "    experiment_name = outcome + \"_model\"\n",
    "\n",
    "    run_name, estimator_name = find_best_model(\n",
    "        experiment_name, metric, mlruns_location=mlruns_location\n",
    "    )\n",
    "\n",
    "    model_name = f\"{estimator_name}_{outcome}\"\n",
    "    best_model = mlflow_load_model(\n",
    "        experiment_name, run_name, model_name, mlruns_location=mlruns_location\n",
    "    )\n",
    "    return best_model"
   ]
  },
  {
   "cell_type": "code",
   "execution_count": null,
   "metadata": {},
   "outputs": [],
   "source": [
    "best_model = return_best_model(\"income\", \"valid Average Precision\", \"../mlruns/models/\")\n",
    "\n",
    "\n",
    "test_x, test_y = best_model.get_test_data(adult_x, adult_y)"
   ]
  },
  {
   "cell_type": "code",
   "execution_count": null,
   "metadata": {},
   "outputs": [],
   "source": [
    "y_pred = best_model.predict(test_x)\n",
    "y_prob = best_model.predict_proba(test_x)[:, 1]\n",
    "y_true = test_y.to_numpy().ravel()\n",
    "fairness_df = test_x[[\"race\", \"sex\"]]"
   ]
  },
  {
   "cell_type": "code",
   "execution_count": null,
   "metadata": {},
   "outputs": [],
   "source": [
    "fairness_df = fairness_df.reset_index()"
   ]
  },
  {
   "cell_type": "code",
   "execution_count": null,
   "metadata": {},
   "outputs": [],
   "source": [
    "eq = eqb.EquiBoots(\n",
    "    y_true=y_true,\n",
    "    y_prob=y_prob,\n",
    "    y_pred=y_pred,\n",
    "    fairness_df=fairness_df,\n",
    "    fairness_vars=[\"race\", \"sex\"],\n",
    ")\n",
    "eq.grouper(groupings_vars=[\"race\", \"sex\"])\n",
    "sliced_data = eq.slicer(\"race\")"
   ]
  },
  {
   "cell_type": "code",
   "execution_count": null,
   "metadata": {},
   "outputs": [],
   "source": [
    "y_true"
   ]
  },
  {
   "cell_type": "code",
   "execution_count": null,
   "metadata": {},
   "outputs": [],
   "source": [
    "eqb.eq_plot_roc_auc(\n",
    "    data=sliced_data,\n",
    "    title=\"ROC Curve by Race\",\n",
    "    decimal_places=3,\n",
    ")"
   ]
  },
  {
   "cell_type": "code",
   "execution_count": null,
   "metadata": {},
   "outputs": [],
   "source": [
    "# Precision-Recall plot\n",
    "fig2 = eqb.eq_plot_precision_recall(\n",
    "    data=sliced_data,\n",
    "    title=\"Precision-Recall Curve by Race\",\n",
    "    decimal_places=3,\n",
    "    dpi=100,\n",
    ")"
   ]
  },
  {
   "cell_type": "code",
   "execution_count": null,
   "metadata": {},
   "outputs": [],
   "source": [
    "# Calibration plot\n",
    "fig3 = eqb.eq_calibration_curve_plot(\n",
    "    data=sliced_data,\n",
    "    n_bins=10,\n",
    "    title=\"Calibration Curve by Race\",\n",
    "    tick_fontsize=8,\n",
    "    decimal_places=3,\n",
    ")\n",
    "fig3"
   ]
  },
  {
   "cell_type": "markdown",
   "metadata": {},
   "source": [
    "### Bootstrapped Graphs - Stratified"
   ]
  },
  {
   "cell_type": "code",
   "execution_count": null,
   "metadata": {},
   "outputs": [],
   "source": [
    "eq2 = eqb.EquiBoots(\n",
    "    y_true,\n",
    "    y_prob,\n",
    "    y_pred,\n",
    "    fairness_df,\n",
    "    fairness_vars=[\"race\", \"sex\"],\n",
    "    reference_groups=[\"White\", \"Male\"],\n",
    "    task=\"binary_classification\",\n",
    "    bootstrap_flag=True,\n",
    "    num_bootstraps=10,\n",
    "    boot_sample_size=2000,\n",
    "    balanced=False,\n",
    ")\n",
    "\n",
    "# Set seeds\n",
    "int_list = np.linspace(200, 300, num=10, dtype=int).tolist()\n",
    "\n",
    "\n",
    "eq2.set_fix_seeds(int_list)\n",
    "\n",
    "print(\"seeds\", eq2.seeds)\n",
    "\n",
    "eq2.grouper(groupings_vars=[\"race\", \"sex\"])\n",
    "sliced_data = eq.slicer(\"race\")\n",
    "\n",
    "data = eq2.slicer(\"race\")\n",
    "race_metrics = eq2.get_metrics(data)\n",
    "\n",
    "dispa = eq2.calculate_disparities(race_metrics, \"race\")\n",
    "\n",
    "melted = pd.DataFrame(dispa).melt()\n",
    "df = melted[\"value\"].apply(pd.Series).assign(attribute_value=melted[\"variable\"])"
   ]
  },
  {
   "cell_type": "code",
   "execution_count": null,
   "metadata": {},
   "outputs": [],
   "source": [
    "eqb.eq_disparity_metrics_plot(\n",
    "    dispa,\n",
    "    metric_cols=[\n",
    "        \"Accuracy_ratio\",\n",
    "        \"Precision_ratio\",\n",
    "        \"Predicted Prevalence_ratio\",\n",
    "        \"Prevalence_ratio\",\n",
    "    ],\n",
    "    name=\"race\",\n",
    "    categories=\"all\",\n",
    "    figsize=(10, 9),\n",
    "    strict_layout=False,\n",
    "    plot_kind=\"violinplot\",\n",
    ")"
   ]
  },
  {
   "cell_type": "code",
   "execution_count": null,
   "metadata": {},
   "outputs": [],
   "source": [
    "sliced = eq2.slicer(slicing_var=\"race\")\n",
    "eqb.eq_plot_bootstrapped_roc_curves(sliced, bar_every=100)"
   ]
  },
  {
   "cell_type": "code",
   "execution_count": null,
   "metadata": {},
   "outputs": [],
   "source": [
    "eqb.eq_plot_bootstrapped_pr_curves(sliced, bar_every=100)"
   ]
  },
  {
   "cell_type": "code",
   "execution_count": null,
   "metadata": {},
   "outputs": [],
   "source": [
    "eqb.eq_plot_bootstrapped_calibration_curves(sliced, n_bins=5)"
   ]
  },
  {
   "cell_type": "markdown",
   "metadata": {},
   "source": [
    "### Bootstrapped Graphs - Balanced"
   ]
  },
  {
   "cell_type": "code",
   "execution_count": null,
   "metadata": {},
   "outputs": [],
   "source": [
    "eq2 = eqb.EquiBoots(\n",
    "    y_true,\n",
    "    y_prob,\n",
    "    y_pred,\n",
    "    fairness_df,\n",
    "    fairness_vars=[\"race\", \"sex\"],\n",
    "    reference_groups=[\"White\", \"Male\"],\n",
    "    task=\"binary_classification\",\n",
    "    bootstrap_flag=True,\n",
    "    num_bootstraps=10,\n",
    "    boot_sample_size=2000,\n",
    "    balanced=True,\n",
    ")\n",
    "\n",
    "# Set seeds\n",
    "int_list = np.linspace(200, 300, num=10, dtype=int).tolist()\n",
    "\n",
    "\n",
    "eq2.set_fix_seeds(int_list)\n",
    "\n",
    "print(\"seeds\", eq2.seeds)\n",
    "\n",
    "eq2.grouper(groupings_vars=[\"race\", \"sex\"])\n",
    "sliced_data = eq.slicer(\"race\")\n",
    "\n",
    "data = eq2.slicer(\"race\")\n",
    "race_metrics = eq2.get_metrics(data)\n",
    "\n",
    "dispa = eq2.calculate_disparities(race_metrics, \"race\")\n",
    "\n",
    "melted = pd.DataFrame(dispa).melt()\n",
    "df = melted[\"value\"].apply(pd.Series).assign(attribute_value=melted[\"variable\"])"
   ]
  },
  {
   "cell_type": "code",
   "execution_count": null,
   "metadata": {},
   "outputs": [],
   "source": [
    "eqb.eq_disparity_metrics_plot(\n",
    "    dispa,\n",
    "    metric_cols=[\n",
    "        \"Accuracy_ratio\",\n",
    "        \"Precision_ratio\",\n",
    "        \"Predicted Prevalence_ratio\",\n",
    "        \"Prevalence_ratio\",\n",
    "    ],\n",
    "    name=\"race\",\n",
    "    categories=\"all\",\n",
    "    # figsize=(20, 5),\n",
    "    # strict_layout=False,\n",
    "    plot_kind=\"violinplot\",\n",
    ")"
   ]
  },
  {
   "cell_type": "code",
   "execution_count": null,
   "metadata": {},
   "outputs": [],
   "source": [
    "sliced = eq2.slicer(slicing_var=\"race\")\n",
    "eqb.eq_plot_bootstrapped_roc_curves(sliced, bar_every=100)"
   ]
  },
  {
   "cell_type": "code",
   "execution_count": null,
   "metadata": {},
   "outputs": [],
   "source": [
    "eqb.eq_plot_bootstrapped_pr_curves(sliced, bar_every=100)"
   ]
  },
  {
   "cell_type": "code",
   "execution_count": null,
   "metadata": {},
   "outputs": [],
   "source": [
    "eqb.eq_plot_bootstrapped_calibration_curves(sliced, n_bins=5)"
   ]
  }
 ],
 "metadata": {
  "kernelspec": {
   "display_name": "cookie_venv",
   "language": "python",
   "name": "python3"
  },
  "language_info": {
   "codemirror_mode": {
    "name": "ipython",
    "version": 3
   },
   "file_extension": ".py",
   "mimetype": "text/x-python",
   "name": "python",
   "nbconvert_exporter": "python",
   "pygments_lexer": "ipython3",
   "version": "3.11.0"
  }
 },
 "nbformat": 4,
 "nbformat_minor": 2
}
