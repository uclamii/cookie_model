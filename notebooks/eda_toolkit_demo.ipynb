{
 "cells": [
  {
   "cell_type": "markdown",
   "metadata": {},
   "source": [
    "## EDA Toolkit Demo"
   ]
  },
  {
   "cell_type": "markdown",
   "metadata": {},
   "source": [
    "This notebook provides a walkthrough of key functionalities from the EDA Toolkit, a lightweight Python library designed to streamline exploratory data analysis. Whether you're working in Jupyter, building reports for stakeholders, or preparing datasets for modeling, the toolkit helps automate the process of generating summary statistics, visualizations, and Markdown exports."
   ]
  },
  {
   "cell_type": "markdown",
   "metadata": {},
   "source": [
    "In this demo, we'll walk through:\n",
    "\n",
    "- Importing and reading data\n",
    "- Creating summary tables (Table 1 style)\n",
    "- Exporting clean, readable output for use in documentation or publication"
   ]
  },
  {
   "cell_type": "code",
   "execution_count": 1,
   "metadata": {},
   "outputs": [
    {
     "name": "stdout",
     "output_type": "stream",
     "text": [
      "EDA Toolkit version: 0.0.19\n"
     ]
    }
   ],
   "source": [
    "import pandas as pd\n",
    "import eda_toolkit\n",
    "\n",
    "print(f\"EDA Toolkit version: {eda_toolkit.__version__}\")"
   ]
  },
  {
   "cell_type": "markdown",
   "metadata": {},
   "source": [
    "### Read-in The Data"
   ]
  },
  {
   "cell_type": "code",
   "execution_count": null,
   "metadata": {},
   "outputs": [],
   "source": [
    "from ucimlrepo import fetch_ucirepo\n",
    "\n",
    "# fetch dataset\n",
    "df = fetch_ucirepo(id=2)\n",
    "df = df.data.features.join(df.data.targets, how=\"inner\")"
   ]
  },
  {
   "cell_type": "code",
   "execution_count": 4,
   "metadata": {},
   "outputs": [],
   "source": [
    "## save out the df in case the uci-mlrepo package goes down\n",
    "df.to_csv(\"../data/raw/df.csv\", index=False)"
   ]
  },
  {
   "cell_type": "markdown",
   "metadata": {},
   "source": [
    "### Table 1"
   ]
  },
  {
   "cell_type": "markdown",
   "metadata": {},
   "source": [
    "#### Example 1: Mixed Summary Table\n",
    "\n",
    "In the example below, we generate a summary table from a dataset containing both \n",
    "categorical and continuous variables. We explicitly define which columns fall into \n",
    "each category, although the ``generate_table1`` function also supports automatic \n",
    "detection of variable types if desired.\n",
    "\n",
    "The summary output is automatically pretty-printed in the console using the \n",
    "``table1_to_str`` utility. This formatting is applied behind the scenes whenever \n",
    "a summary table is printed, making it especially helpful for reading outputs \n",
    "within notebooks or logging environments.\n",
    "\n",
    "In this case, we specify ``export_markdown=True`` and provide a filename via\n",
    "``markdown_path``. This allows the summary to be exported in Markdown format\n",
    "for use in reports, documentation, or publishing platforms like Jupyter Book or Quarto.\n",
    "When ``include_types=\"both\"`` and ``combine=True`` (the default), both continuous and \n",
    "categorical summaries are merged into a single DataFrame and written to two separate \n",
    "Markdown files with ``_continuous.md`` and ``_categorical.md`` suffixes.\n",
    "\n",
    "We also set ``value_counts=False`` to limit each categorical variable to a single \n",
    "summary row, rather than expanding into one row per category-level value."
   ]
  },
  {
   "cell_type": "code",
   "execution_count": null,
   "metadata": {},
   "outputs": [],
   "source": [
    "from eda_toolkit import generate_table1\n",
    "\n",
    "table1 = generate_table1(\n",
    "    df=df,\n",
    "    categorical_cols=[\"sex\", \"race\", \"workclass\"],\n",
    "    continuous_cols=[\"hours-per-week\", \"age\", \"education-num\"],\n",
    "    value_counts=False,\n",
    "    max_categories=3,\n",
    "    export_markdown=True,\n",
    "    decimal_places=0,\n",
    "    markdown_path=\"table1_summary.md\",\n",
    ")\n",
    "\n",
    "print(table1)"
   ]
  },
  {
   "cell_type": "markdown",
   "metadata": {},
   "source": [
    "### Example 2: Mixed Summary Table ``(value_counts=True)``"
   ]
  },
  {
   "cell_type": "markdown",
   "metadata": {},
   "source": [
    "In this example, we call ``generate_table1`` without manually specifying which \n",
    "columns are categorical or continuous. Instead, the function automatically detects \n",
    "variable types based on data types. Numeric columns with two or fewer unique values \n",
    "are also reclassified as categorical by default \n",
    "(controlled via ``detect_binary_numeric=True``).\n",
    "\n",
    "We set ``value_counts=True`` to generate a separate summary row for each unique value \n",
    "within a categorical variable, rather than a single row per variable. To keep \n",
    "the output concise, we limit each breakdown to the top 3 most frequent values \n",
    "using ``max_categories=3``.\n",
    "\n",
    "We also enable ``export_markdown=True`` to export the summaries in Markdown format. \n",
    "While you can specify a custom markdown_path, if none is provided, the output files \n",
    "are saved to the current working directory.\n",
    "\n",
    "Since ``include_types=\"both\"`` is the default and ``combine=True`` by default as well, \n",
    "the underlying summaries are merged into a single DataFrame for display—but two \n",
    "separate Markdown files are still generated with suffixes that reflect the type of \n",
    "summary:\n",
    "\n",
    "- ``table1_summary_continuous.md``\n",
    "- ``table1_summary_categorical.md``\n",
    "\n",
    "This setup is ideal for detailed reporting, especially when working with \n",
    "downstream tools like Jupyter Book, Quarto, or static site generators."
   ]
  },
  {
   "cell_type": "code",
   "execution_count": null,
   "metadata": {},
   "outputs": [],
   "source": [
    "from eda_toolkit import generate_table1\n",
    "\n",
    "table1_cont, table1_cat = generate_table1(\n",
    "    df=df,\n",
    "    value_counts=True,\n",
    "    max_categories=3,\n",
    "    combine=False,\n",
    "    export_markdown=True,\n",
    "    markdown_path=\"table1_summary.md\",\n",
    ")\n",
    "\n",
    "table1_cont = table1_cont.drop(columns=[\"Type\", \"Mode\"])"
   ]
  },
  {
   "cell_type": "code",
   "execution_count": null,
   "metadata": {},
   "outputs": [],
   "source": [
    "table1_cont"
   ]
  },
  {
   "cell_type": "code",
   "execution_count": null,
   "metadata": {},
   "outputs": [],
   "source": [
    "table1_cat"
   ]
  },
  {
   "cell_type": "markdown",
   "metadata": {},
   "source": [
    "### Histogram Example - (Mean, Median, and Std. Deviation)"
   ]
  },
  {
   "cell_type": "markdown",
   "metadata": {},
   "source": [
    "In this example, the ``kde_distributions()`` function is customized to generate \n",
    "a histogram that include mean, median, and 3 standard deviation lines. The \n",
    "``mean_color`` is set to ``\"blue\"`` and the median_color is set to ``\"black\"``, \n",
    "allowing for a clear distinction between these two central tendency measures. \n",
    "The function parameters are adjusted to ensure that both the mean and median lines \n",
    "are plotted ``(plot_mean=True, plot_median=True)``. The ``y_axis_label`` remains\n",
    "``\"Density\"``, indicating that the histograms represent the density of observations \n",
    "within each bin. The histogram bars are colored using ``hist_color=\"brown\"``, \n",
    "with a ``fill_alpha=0.40``, which adjusts the transparency of the fill color. \n",
    "Additionally, standard deviation bands are plotted using colors ``\"purple\"``, \n",
    "``\"green\"``, and ``\"silver\"`` for one, two, and three standard deviations, respectively.\n",
    "\n",
    "The layout is configured with a single row and multiple columns ``(n_rows=1, n_cols=3)``, \n",
    "and the grid size is set to `15x5 inches`. This setup is particularly useful for \n",
    "visualizing the central tendencies within the data while also providing a clear \n",
    "view of the distribution and spread through the standard deviation bands. The \n",
    "configuration used in this example showcases how histograms can be enhanced with \n",
    "statistical overlays to provide deeper insights into the data."
   ]
  },
  {
   "cell_type": "code",
   "execution_count": null,
   "metadata": {},
   "outputs": [],
   "source": [
    "from eda_toolkit import kde_distributions\n",
    "\n",
    "vars_of_interest = [\n",
    "    \"age\",\n",
    "]\n",
    "\n",
    "kde_distributions(\n",
    "    df=df,\n",
    "    figsize=(6, 4),\n",
    "    text_wrap=50,\n",
    "    hist_color=\"brown\",\n",
    "    bbox_inches=\"tight\",\n",
    "    vars_of_interest=vars_of_interest,\n",
    "    y_axis_label=\"Density\",\n",
    "    bins=10,\n",
    "    fill_alpha=0.40,\n",
    "    plot_type=\"both\",\n",
    "    stat=\"Density\",\n",
    "    # label_fontsize=16,  # Font size for axis labels\n",
    "    # tick_fontsize=14,  # Font size for tick labels\n",
    "    plot_mean=True,\n",
    "    plot_median=True,\n",
    "    mean_color=\"blue\",\n",
    "    std_dev_levels=[\n",
    "        1,\n",
    "        2,\n",
    "        3,\n",
    "    ],\n",
    "    std_color=[\n",
    "        \"purple\",\n",
    "        \"green\",\n",
    "        \"silver\",\n",
    "    ],\n",
    "    image_filename=\"age_distribution_mean_median_std\",\n",
    ")"
   ]
  }
 ],
 "metadata": {
  "kernelspec": {
   "display_name": "cookie_venv",
   "language": "python",
   "name": "python3"
  },
  "language_info": {
   "codemirror_mode": {
    "name": "ipython",
    "version": 3
   },
   "file_extension": ".py",
   "mimetype": "text/x-python",
   "name": "python",
   "nbconvert_exporter": "python",
   "pygments_lexer": "ipython3",
   "version": "3.11.0"
  }
 },
 "nbformat": 4,
 "nbformat_minor": 2
}
